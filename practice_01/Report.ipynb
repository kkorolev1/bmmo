{
 "cells": [
  {
   "cell_type": "code",
   "execution_count": 1,
   "id": "d255b0e2",
   "metadata": {},
   "outputs": [],
   "source": [
    "%load_ext autoreload\n",
    "%autoreload 2"
   ]
  },
  {
   "cell_type": "code",
   "execution_count": 52,
   "id": "dfe5a615",
   "metadata": {},
   "outputs": [],
   "source": [
    "import numpy as np\n",
    "from pandas import DataFrame\n",
    "import matplotlib.pyplot as plt\n",
    "from kirill_korolev_v1 import pa, pb, pc, pd, pc_ab, pc_abd, pc_d, pc_a, pc_b"
   ]
  },
  {
   "cell_type": "code",
   "execution_count": 97,
   "id": "b37561c4",
   "metadata": {},
   "outputs": [],
   "source": [
    "class Distribution:\n",
    "    def __init__(self, name, p, values):\n",
    "        self.name = name\n",
    "        self.p = p\n",
    "        self.values = values\n",
    "    \n",
    "    def k_moment(self, k):\n",
    "        values = self.values ** k\n",
    "        result = np.tensordot(values, self.p, axes=1)\n",
    "        if len(result.shape) == 0:\n",
    "            return result.item()\n",
    "        return result\n",
    "\n",
    "    def expectation(self):\n",
    "        return self.k_moment(1)\n",
    "\n",
    "    def variance(self):\n",
    "        return self.k_moment(2) - (self.expectation()**2)"
   ]
  },
  {
   "cell_type": "code",
   "execution_count": 98,
   "id": "070153d6",
   "metadata": {},
   "outputs": [],
   "source": [
    "params = {'amin': 75, 'amax': 90, 'bmin': 500, 'bmax': 600,\n",
    "              'p1': 0.1, 'p2': 0.01, 'p3': 0.3}"
   ]
  },
  {
   "cell_type": "code",
   "execution_count": 99,
   "id": "71c088c7",
   "metadata": {},
   "outputs": [],
   "source": [
    "dists_map = {'pa': pa(params, 1), 'pb': pb(params, 1),\n",
    "             'pc1': pc(params, 1), 'pc2': pc(params, 2),\n",
    "             'pd1': pd(params, 1), 'pd2': pd(params, 2)}\n",
    "expectations = {}\n",
    "variances = {}\n",
    "\n",
    "for name, dist_tuple in dists_map.items():\n",
    "    dist = Distribution(name, *dist_tuple)\n",
    "    expectations[name] = dist.expectation()\n",
    "    variances[name] = dist.variance()"
   ]
  },
  {
   "cell_type": "code",
   "execution_count": 101,
   "id": "7db97f52",
   "metadata": {},
   "outputs": [
    {
     "data": {
      "text/html": [
       "<div>\n",
       "<style scoped>\n",
       "    .dataframe tbody tr th:only-of-type {\n",
       "        vertical-align: middle;\n",
       "    }\n",
       "\n",
       "    .dataframe tbody tr th {\n",
       "        vertical-align: top;\n",
       "    }\n",
       "\n",
       "    .dataframe thead th {\n",
       "        text-align: right;\n",
       "    }\n",
       "</style>\n",
       "<table border=\"1\" class=\"dataframe\">\n",
       "  <thead>\n",
       "    <tr style=\"text-align: right;\">\n",
       "      <th></th>\n",
       "      <th>expectation</th>\n",
       "      <th>variance</th>\n",
       "    </tr>\n",
       "  </thead>\n",
       "  <tbody>\n",
       "    <tr>\n",
       "      <th>pa</th>\n",
       "      <td>82.500</td>\n",
       "      <td>21.250</td>\n",
       "    </tr>\n",
       "    <tr>\n",
       "      <th>pb</th>\n",
       "      <td>550.000</td>\n",
       "      <td>850.000</td>\n",
       "    </tr>\n",
       "    <tr>\n",
       "      <th>pc1</th>\n",
       "      <td>13.750</td>\n",
       "      <td>13.168</td>\n",
       "    </tr>\n",
       "    <tr>\n",
       "      <th>pc2</th>\n",
       "      <td>13.750</td>\n",
       "      <td>14.048</td>\n",
       "    </tr>\n",
       "    <tr>\n",
       "      <th>pd1</th>\n",
       "      <td>17.875</td>\n",
       "      <td>25.141</td>\n",
       "    </tr>\n",
       "    <tr>\n",
       "      <th>pd2</th>\n",
       "      <td>17.875</td>\n",
       "      <td>26.628</td>\n",
       "    </tr>\n",
       "  </tbody>\n",
       "</table>\n",
       "</div>"
      ],
      "text/plain": [
       "     expectation  variance\n",
       "pa        82.500    21.250\n",
       "pb       550.000   850.000\n",
       "pc1       13.750    13.168\n",
       "pc2       13.750    14.048\n",
       "pd1       17.875    25.141\n",
       "pd2       17.875    26.628"
      ]
     },
     "execution_count": 101,
     "metadata": {},
     "output_type": "execute_result"
    }
   ],
   "source": [
    "stats = DataFrame(index=dists_map.keys(), columns=['expectation', 'variance'])\n",
    "stats['expectation'] = expectations.values()\n",
    "stats['variance'] = variances.values()\n",
    "stats = stats.round(3)\n",
    "\n",
    "stats"
   ]
  },
  {
   "cell_type": "code",
   "execution_count": 103,
   "id": "e143ac40",
   "metadata": {},
   "outputs": [],
   "source": [
    "pa_dist = Distribution('pa', *dists_map['pa'])\n",
    "a_exp = round(pa_dist.expectation())\n",
    "\n",
    "pb_dist = Distribution('pb', *dists_map['pb'])\n",
    "b_exp = round(pb_dist.expectation())\n",
    "\n",
    "pd_dist = Distribution('pd1', *dists_map['pd1'])\n",
    "d_exp = round(pd_dist.expectation())"
   ]
  },
  {
   "cell_type": "code",
   "execution_count": 104,
   "id": "2b823c92",
   "metadata": {},
   "outputs": [
    {
     "data": {
      "text/plain": [
       "(13.749999999999995, 13.167500000000075)"
      ]
     },
     "execution_count": 104,
     "metadata": {},
     "output_type": "execute_result"
    }
   ],
   "source": [
    "pc_dist = Distribution('pc', *pc(params, 1))\n",
    "pc_dist.expectation(), pc_dist.variance()"
   ]
  },
  {
   "cell_type": "code",
   "execution_count": 105,
   "id": "aff6b722",
   "metadata": {},
   "outputs": [
    {
     "data": {
      "text/plain": [
       "(array([13.7]), array([12.91]))"
      ]
     },
     "execution_count": 105,
     "metadata": {},
     "output_type": "execute_result"
    }
   ],
   "source": [
    "pca_dist = Distribution('pc_a', *pc_a(np.array([a_exp]), params, 1))\n",
    "pca_dist.expectation(), pca_dist.variance()"
   ]
  },
  {
   "cell_type": "code",
   "execution_count": 106,
   "id": "dc6dcfba",
   "metadata": {},
   "outputs": [
    {
     "data": {
      "text/plain": [
       "(array([13.75]), array([13.0825]))"
      ]
     },
     "execution_count": 106,
     "metadata": {},
     "output_type": "execute_result"
    }
   ],
   "source": [
    "pcb_dist = Distribution('pc_b', *pc_b(np.array([b_exp]), params, 1))\n",
    "pcb_dist.expectation(), pcb_dist.variance()"
   ]
  },
  {
   "cell_type": "code",
   "execution_count": 107,
   "id": "3e56317b",
   "metadata": {},
   "outputs": [
    {
     "data": {
      "text/plain": [
       "(array([13.8959706]), array([1.5335817]))"
      ]
     },
     "execution_count": 107,
     "metadata": {},
     "output_type": "execute_result"
    }
   ],
   "source": [
    "pcd_dist = Distribution('pc_d', *pc_d(np.array([d_exp]), params, 1))\n",
    "pcd_dist.expectation(), pcd_dist.variance()"
   ]
  },
  {
   "cell_type": "code",
   "execution_count": 108,
   "id": "52ed91b7",
   "metadata": {},
   "outputs": [
    {
     "data": {
      "text/plain": [
       "(array([[13.7]]), array([[12.825]]))"
      ]
     },
     "execution_count": 108,
     "metadata": {},
     "output_type": "execute_result"
    }
   ],
   "source": [
    "pcab_dist = Distribution('pc_ab', *pc_ab(np.array([a_exp]), np.array([b_exp]), params, 1))\n",
    "pcab_dist.expectation(), pcab_dist.variance()"
   ]
  },
  {
   "cell_type": "code",
   "execution_count": 109,
   "id": "7bc94ded",
   "metadata": {},
   "outputs": [
    {
     "data": {
      "text/plain": [
       "(array([[[13.8908725]]]), array([[[1.52942458]]]))"
      ]
     },
     "execution_count": 109,
     "metadata": {},
     "output_type": "execute_result"
    }
   ],
   "source": [
    "pcabd_dist = Distribution('pc_abd', *pc_abd(np.array([a_exp]), np.array([b_exp]), np.array([d_exp]), params, 1))\n",
    "pcabd_dist.expectation(), pcabd_dist.variance()"
   ]
  },
  {
   "cell_type": "code",
   "execution_count": null,
   "id": "3cf9b77a",
   "metadata": {},
   "outputs": [],
   "source": []
  }
 ],
 "metadata": {
  "kernelspec": {
   "display_name": "Python 3 (ipykernel)",
   "language": "python",
   "name": "python3"
  },
  "language_info": {
   "codemirror_mode": {
    "name": "ipython",
    "version": 3
   },
   "file_extension": ".py",
   "mimetype": "text/x-python",
   "name": "python",
   "nbconvert_exporter": "python",
   "pygments_lexer": "ipython3",
   "version": "3.8.5"
  }
 },
 "nbformat": 4,
 "nbformat_minor": 5
}
